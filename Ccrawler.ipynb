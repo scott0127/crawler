{
 "cells": [
  {
   "cell_type": "code",
   "execution_count": 95,
   "metadata": {},
   "outputs": [],
   "source": [
    "import requests\n",
    "from bs4 import BeautifulSoup as bs\n",
    "from selenium import webdriver\n",
    "from selenium.webdriver.common.by import By\n",
    "from selenium.webdriver.support.ui import WebDriverWait\n",
    "from selenium.webdriver.support import expected_conditions as EC\n",
    "import re "
   ]
  },
  {
   "cell_type": "code",
   "execution_count": 100,
   "metadata": {},
   "outputs": [],
   "source": [
    "url='https://lawsnote.com/search/indictment/%E5%82%B7%E5%AE%B3'\n",
    "base_url='https://lawsnote.com'\n",
    "driver=webdriver.Chrome()\n",
    "driver.get(url)\n",
    "try:\n",
    "    element=WebDriverWait(driver,10).until(EC.presence_of_element_located((By.CLASS_NAME, \"search-result__main\")))\n",
    "except:\n",
    "    print('error')\n",
    "    driver.close()\n",
    "driver=login(driver)\n",
    "html=driver.page_source\n",
    "soup=bs(html,'html.parser')\n",
    "sub_item=catch_href(soup) #抓出頁面中的判決書連結\n",
    "indictment=search_fit_indictment(sub_item) #篩出府和條件的連結"
   ]
  },
  {
   "cell_type": "code",
   "execution_count": 101,
   "metadata": {},
   "outputs": [],
   "source": [
    "driver.get('https://lawsnote.com/indictment/5c12cb943e6d28c46a53367f?t=1546689104')"
   ]
  },
  {
   "cell_type": "code",
   "execution_count": 102,
   "metadata": {},
   "outputs": [],
   "source": [
    "soup=bs(driver.page_source,'lxml')\n",
    "#起訴書處理title\n",
    "title_label=soup.select('.document__section.document__meta-content')\n",
    "title_text=title_label[0].find_all('li')\n",
    "judgement={}\n",
    "judgement['字號']=title_text[0].text.replace('【字號】','')\n",
    "judgement['日期']=title_text[1].text.replace('【日期】','')\n",
    "judgement['案由']=title_text[2].text.replace('【案由】','')\n",
    "#起訴書處理內文 content_label\n",
    "content_label=soup.select('.document__section.document__judgement-content')\n",
    "judgement['起訴書內文']=content_label[0].text\n",
    "#起訴書相關法條\n",
    "related_Issue=soup.select('.document-misc__sub-container.document-misc__relatedIssue-container')\n",
    "r=related_Issue[0].select('.document-misc__item-container.indictment-misc-content')\n",
    "#起訴書相關法條標題 related_Issue_title\n",
    "related_Issue_title=[x.find('div').text for x in r]\n",
    "#起訴書相關法條內文  {法條名:內文} related_Issue_content\n",
    "related_Issue_content={}\n",
    "for i in range(len(related_Issue_title)):\n",
    "    related_Issue_content[related_Issue_title[i]]=r[i].find_all('ul')[0].text\n",
    "\n",
    "#起訴書dict key:字號,日期,案由,起訴書內文,相關法條標題:list,相關法條內文:{法條名:內文},判決書\n",
    "judgement['相關法條']=related_Issue_title\n",
    "judgement['法條內文']=related_Issue_content\n",
    "judg=soup.select('.document-misc__sub-container.document-misc__judgementHistory-container')\n",
    "judgement['判決書']=judg[0].find('a')['id']"
   ]
  },
  {
   "cell_type": "code",
   "execution_count": 104,
   "metadata": {},
   "outputs": [],
   "source": [
    "judg=soup.select('.document-misc__sub-container.document-misc__judgementHistory-container')\n",
    "judg[0].find('a')['id']\n",
    "driver.find_element_by_link_text(judg[0].find('a')['id']).click()\n",
    "\n"
   ]
  },
  {
   "cell_type": "code",
   "execution_count": 105,
   "metadata": {},
   "outputs": [],
   "source": [
    "soup=bs(driver.page_source,'lxml')\n",
    "#判決書處理title\n",
    "j_t_label=soup.select('.document__section.document__meta-content')\n",
    "j_t_text=j_t_label[0].find_all('li')\n",
    "j_judgement={}\n",
    "j_judgement['字號']=title_text[0].text.replace('【裁判字號】','')\n",
    "j_judgement['日期']=title_text[1].text.replace('【裁判日期】','')\n",
    "j_judgement['案由']=title_text[2].text.replace('【裁判案由】','')\n",
    "#判決書內文 judgment_text\n",
    "judgment_text=soup.select('.document__section.document__judgement-content.markerarea-main')[0].text\n",
    "j_judgement['裁判內文']=judgment_text\n",
    "#判決書相關法條\n",
    "j_related_Issue=soup.select('.document-misc__sub-container.document-misc__relatedIssue-container')\n",
    "j=j_related_Issue[0].select('.document-misc__item-container.judgement-misc-content')\n",
    "#判決書相關法條標題 j_rel_Issue_title\n",
    "j_rel_Issue_title=[x.find('div').text for x in j]\n",
    "#判決書相關法條內文  {法條名:內文} j_rel_Issue_content\n",
    "j_rel_Issue_content={}\n",
    "for i in range(len(j_rel_Issue_title)):\n",
    "    j_rel_Issue_content[j_rel_Issue_title[i]]=j[i].find_all('ul')[0].text\n",
    "\n",
    "#判決書dict key:字號,日期,案由,裁判內文,相關法條標題:list,相關法條內文:{法條名:內文}\n",
    "j_judgement['相關法條']=j_rel_Issue_title\n",
    "j_judgement['法條內文']=j_rel_Issue_content\n",
    "\n"
   ]
  },
  {
   "cell_type": "code",
   "execution_count": null,
   "metadata": {},
   "outputs": [],
   "source": [
    "fail_open=[]\n",
    "i=0;\n",
    "while len(indictment)>0:\n",
    "    driver.find_element_by_link_text(indictment[i]).click()\n",
    "    try:\n",
    "        element=WebDriverWait(driver,10).until(EC.presence_of_element_located((By.CLASS_NAME,'main-view')))\n",
    "    except:\n",
    "        fail_open.append(indictment[i])\n",
    "        driver.back()\n",
    "    #parse\n",
    "    indictment.remove(indictment[i])\n"
   ]
  },
  {
   "cell_type": "code",
   "execution_count": 96,
   "metadata": {},
   "outputs": [],
   "source": [
    "def catch_href(soup):\n",
    "    sub_item=soup.find_all('a',{'class':'search-result__item-link'})\n",
    "    return sub_item"
   ]
  },
  {
   "cell_type": "code",
   "execution_count": 97,
   "metadata": {},
   "outputs": [],
   "source": [
    "def search_fit_indictment(sub_item):\n",
    "    indictment_item=[]\n",
    "    for s in sub_item:\n",
    "        if s.text.find('傷害')!=-1 and s.text.find('起訴書')!=-1:\n",
    "            indictment_item.append(s.text)\n",
    "    return indictment_item"
   ]
  },
  {
   "cell_type": "code",
   "execution_count": 98,
   "metadata": {},
   "outputs": [],
   "source": [
    "def login(driver):\n",
    "    driver.find_element_by_xpath(u\"(.//*[normalize-space(text()) and normalize-space(.)='揪團'])[1]/preceding::button[1]\").click()\n",
    "    driver.find_element_by_id(\"email\").click()\n",
    "    driver.find_element_by_id(\"email\").clear()\n",
    "    driver.find_element_by_id(\"email\").send_keys(\"scott01272001@gmail.com\")\n",
    "    driver.find_element_by_id(\"password\").clear()\n",
    "    driver.find_element_by_id(\"password\").send_keys(\"asd753\")\n",
    "    driver.find_element_by_xpath(u\"(.//*[normalize-space(text()) and normalize-space(.)='忘記密碼？'])[1]/following::button[1]\").click()\n",
    "    return driver"
   ]
  }
 ],
 "metadata": {
  "kernelspec": {
   "display_name": "Python 3",
   "language": "python",
   "name": "python3"
  },
  "language_info": {
   "codemirror_mode": {
    "name": "ipython",
    "version": 3
   },
   "file_extension": ".py",
   "mimetype": "text/x-python",
   "name": "python",
   "nbconvert_exporter": "python",
   "pygments_lexer": "ipython3",
   "version": "3.6.7"
  }
 },
 "nbformat": 4,
 "nbformat_minor": 2
}
