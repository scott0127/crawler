{
 "cells": [
  {
   "cell_type": "code",
   "execution_count": 154,
   "metadata": {},
   "outputs": [
    {
     "name": "stdout",
     "output_type": "stream",
     "text": [
      "0 双音节   url:  /item/%E5%8F%8C%E9%9F%B3%E8%8A%82\n",
      "1 惝恍   url:  /item/%E6%83%9D%E6%81%8D\n",
      "2 史记   url:  /item/%E5%8F%B2%E8%AE%B0\n",
      "3 司马相如列传   url:  /item/%E5%8F%B8%E9%A9%AC%E7%9B%B8%E5%A6%82%E5%88%97%E4%BC%A0\n",
      "4 提福   url:  /item/%E6%8F%90%E7%A6%8F\n",
      "5 司马相如列传   url:  /item/%E5%8F%B8%E9%A9%AC%E7%9B%B8%E5%A6%82%E5%88%97%E4%BC%A0\n",
      "6 犬子   url:  /item/%E7%8A%AC%E5%AD%90\n",
      "7 拙荆   url:  /item/%E6%8B%99%E8%8D%86\n",
      "8 太平御览   url:  /item/%E5%A4%AA%E5%B9%B3%E5%BE%A1%E8%A7%88\n",
      "9 史馆   url:  /item/%E5%8F%B2%E9%A6%86\n",
      "10 监修   url:  /item/%E7%9B%91%E4%BF%AE\n",
      "11 宫崎骏   url:  /item/%E5%AE%AB%E5%B4%8E%E9%AA%8F\n",
      "12 魔女宅急便   url:  /item/%E9%AD%94%E5%A5%B3%E5%AE%85%E6%80%A5%E4%BE%BF\n",
      "13 键本景子   url:  /item/%E9%94%AE%E6%9C%AC%E6%99%AF%E5%AD%90\n",
      "14 魔女宅急便   url:  /item/%E9%AD%94%E5%A5%B3%E5%AE%85%E6%80%A5%E4%BE%BF\n",
      "15 渊崎有里子   url:  /item/%E6%B8%8A%E5%B4%8E%E6%9C%89%E9%87%8C%E5%AD%90\n",
      "16 森里惠   url:  /item/%E6%A3%AE%E9%87%8C%E6%83%A0\n",
      "17 小惠   url:  /item/%E5%B0%8F%E6%83%A0\n",
      "18 凄凉   url:  /item/%E5%85%B0%E5%9D%9B%E4%B8%BB\n",
      "19 左护法   url:  /item/%E5%B7%A6%E6%8A%A4%E6%B3%95\n"
     ]
    }
   ],
   "source": [
    "#深度搜尋方式爬網站內超連結\n",
    "\n",
    "from urllib.request import urlopen\n",
    "from bs4 import BeautifulSoup\n",
    "import random\n",
    "\n",
    "base_url = \"https://baike.baidu.com\"\n",
    "his = [\"/item/%E7%BD%91%E7%BB%9C%E7%88%AC%E8%99%AB/5162711\"]\n",
    "\n",
    "for i in range(20):\n",
    "    url = base_url+his[-1]\n",
    "    \n",
    "    html=urlopen(url).read().decode('utf-8')\n",
    "    soup=BeautifulSoup(html,features='lxml')\n",
    "    print(i,soup.find('h1').get_text(),'  url: ',his[-1])\n",
    "    \n",
    "    sub_urls=soup.find_all('a',{'target':'_blank',\n",
    "                  'href':re.compile('/item/(%.{2})+$')})\n",
    "    if len(sub_urls)!=0:\n",
    "        his.append(random.sample(sub_urls,1)[0]['href'])\n",
    "    else:\n",
    "        his.pop()\n",
    "    "
   ]
  }
 ],
 "metadata": {
  "kernelspec": {
   "display_name": "Python 3",
   "language": "python",
   "name": "python3"
  },
  "language_info": {
   "codemirror_mode": {
    "name": "ipython",
    "version": 3
   },
   "file_extension": ".py",
   "mimetype": "text/x-python",
   "name": "python",
   "nbconvert_exporter": "python",
   "pygments_lexer": "ipython3",
   "version": "3.6.7"
  }
 },
 "nbformat": 4,
 "nbformat_minor": 2
}
