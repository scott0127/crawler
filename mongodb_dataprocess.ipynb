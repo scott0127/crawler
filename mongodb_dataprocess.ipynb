{
 "cells": [
  {
   "cell_type": "code",
   "execution_count": 1,
   "metadata": {},
   "outputs": [],
   "source": [
    "import pymongo\n",
    "from pymongo import MongoClient"
   ]
  },
  {
   "cell_type": "code",
   "execution_count": 2,
   "metadata": {},
   "outputs": [],
   "source": [
    "client=MongoClient('jacky0603.synology.me',28017)"
   ]
  },
  {
   "cell_type": "code",
   "execution_count": 3,
   "metadata": {},
   "outputs": [],
   "source": [
    "db=client['law']\n",
    "collection=['total']"
   ]
  },
  {
   "cell_type": "code",
   "execution_count": null,
   "metadata": {},
   "outputs": [],
   "source": []
  },
  {
   "cell_type": "code",
   "execution_count": null,
   "metadata": {},
   "outputs": [],
   "source": [
    "c=total.find({\"案由\":\"傷害\"})\n",
    "for i in c:\n",
    "    print(i)"
   ]
  },
  {
   "cell_type": "code",
   "execution_count": null,
   "metadata": {},
   "outputs": [],
   "source": [
    "db=client['law']\n",
    "total=db['total']\n",
    "org_total=total.distinct(\"判決法條\")\n",
    "for i in org_total:\n",
    "    aggregate(i)"
   ]
  },
  {
   "cell_type": "code",
   "execution_count": null,
   "metadata": {},
   "outputs": [],
   "source": [
    "from openpyxl import Workbook\n",
    "\n",
    "def aggregate(i):\n",
    "    pipeline = [{u\"$match\": {\"判決法條\" :i}},{u\"$count\": u\"count\"}]\n",
    "    cursor = total.aggregate(pipeline, allowDiskUse = False)\n",
    "    wb=Workbook()\n",
    "    ws = wb.active\n",
    "    ws['A1']=\"法條\"\n",
    "    ws['B1']='數量'\n",
    "    try:\n",
    "        for doc in cursor:\n",
    "            ws.append([i,doc])\n",
    "    finally:\n",
    "        wb.save('法條統計.xlsx')\n",
    "        client.close()"
   ]
  },
  {
   "cell_type": "code",
   "execution_count": null,
   "metadata": {},
   "outputs": [],
   "source": [
    "a={'fff':'sdf'}\n",
    "a.keys()"
   ]
  },
  {
   "cell_type": "code",
   "execution_count": null,
   "metadata": {},
   "outputs": [],
   "source": [
    "from pymongo import MongoClient\n",
    "from openpyxl import Workbook\n",
    "\n",
    "client = MongoClient('jacky0603.synology.me',28017)\n",
    "db=client['law']\n",
    "total=db['total']\n",
    "org_total=total.distinct(\"判決法條\")\n",
    "\n",
    "wb=Workbook()\n",
    "ws = wb.active\n",
    "ws['A1']=\"法條\"\n",
    "ws['B1']='數量'\n",
    "\n",
    "def aggregate(i,ws):\n",
    "    pipeline = [{u\"$match\": {\"判決法條\" :i}},{\"$count\":i}]\n",
    "    cursor = total.aggregate(pipeline, allowDiskUse = False)\n",
    "    try:\n",
    "        for doc in cursor:\n",
    "            ws.append([i,doc[i]])\n",
    "            print(doc)\n",
    "    finally:\n",
    "        client.close()\n",
    "\n",
    "for i in org_total:\n",
    "    aggregate(i,ws)\n",
    "wb.save('法條統計.xlsx')"
   ]
  },
  {
   "cell_type": "code",
   "execution_count": null,
   "metadata": {},
   "outputs": [],
   "source": [
    "import xlwt\n",
    "\n",
    "def set_style(name,height,bold=False):\n",
    "    style = xlwt.XFStyle()\n",
    "    font = xlwt.Font()\n",
    "    font.name = name\n",
    "    font.bold = bold\n",
    "    font.color_index = 4\n",
    "    font.height = height\n",
    "    style.font = font\n",
    "    return style\n",
    "\n",
    "def write_excel():\n",
    "    f = xlwt.Workbook()\n",
    "    sheet1 = f.add_sheet('法條',cell_overwrite_ok=True)\n",
    "    row0 = [\"法條\",\"數量\"]\n",
    "    colum0 = ['a','b']\n",
    "    #写第一行\n",
    "    for i in range(0,len(row0)):\n",
    "        sheet1.write(0,i,row0[i],set_style('Times New Roman',220,True))\n",
    "    #写第一列\n",
    "    for i in range(0,len(colum0)):\n",
    "        sheet1.write(i+1,0,colum0[i],set_style('Times New Roman',220,True))\n",
    "        f.save('test.xls')\n",
    "    \n",
    "write_excel()"
   ]
  }
 ],
 "metadata": {
  "kernelspec": {
   "display_name": "Python 3",
   "language": "python",
   "name": "python3"
  },
  "language_info": {
   "codemirror_mode": {
    "name": "ipython",
    "version": 3
   },
   "file_extension": ".py",
   "mimetype": "text/x-python",
   "name": "python",
   "nbconvert_exporter": "python",
   "pygments_lexer": "ipython3",
   "version": "3.7.1"
  }
 },
 "nbformat": 4,
 "nbformat_minor": 2
}
