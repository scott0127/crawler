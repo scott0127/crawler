{
 "cells": [
  {
   "cell_type": "code",
   "execution_count": 1,
   "metadata": {},
   "outputs": [],
   "source": [
    "import pymongo\n",
    "from pymongo import MongoClient"
   ]
  },
  {
   "cell_type": "code",
   "execution_count": 2,
   "metadata": {},
   "outputs": [],
   "source": [
    "client=MongoClient('jacky0603.synology.me',28017)"
   ]
  },
  {
   "cell_type": "code",
   "execution_count": 3,
   "metadata": {},
   "outputs": [],
   "source": [
    "db=client['law']\n",
    "collection=['total']"
   ]
  },
  {
   "cell_type": "code",
   "execution_count": 12,
   "metadata": {},
   "outputs": [
    {
     "data": {
      "text/plain": [
       "{'fact': '经审理查明：2014年8月25日晚19时至次日凌晨3时许，被告人黄某甲到江苏省沭阳县扎下镇明庄村、耿圩镇周庙村等地方水沟旁，使用矿灯、网兜等工具非法捕捉野生青蛙计188只。经国家林业局森林公安局野生动植物刑事物证鉴定中心鉴定，被捕获的青蛙中均为黑斑蛙，属于国家保护的有益的或者有重要经济、科学研究价值的动物（即“三有动物”）。另查明，2014年8月26日凌晨4时许，被告人黄某甲在耿圩镇淮西村欲出售青蛙时被抓获。公安机关从被告人黄某甲处扣押所猎捕青蛙188只及网兜、矿灯、口袋各一个。其中所扣押的青蛙已由公安机关放生。上述事实，有庭审举证、质证的发破案及抓获情况说明，检查笔录，扣押清单及照片，物证鉴定书，证人黄某乙、周某、彭某的证言，被告人黄某甲的供述，情况说明，户籍信息等证据证实，证据间能相互印证，本院予以认定。',\n",
       " 'meta': {'relevant_articles': [341],\n",
       "  'accusation': ['非法狩猎'],\n",
       "  'punish_of_money': 0,\n",
       "  'criminals': ['黄某甲'],\n",
       "  'term_of_imprisonment': {'death_penalty': False,\n",
       "   'imprisonment': 0,\n",
       "   'life_imprisonment': False}}}"
      ]
     },
     "execution_count": 12,
     "metadata": {},
     "output_type": "execute_result"
    }
   ],
   "source": [
    "file = open(r'D:\\CAIL Dsta\\final_all_data\\exercise_contest\\data_train.json',encoding='utf-8')\n",
    "for line in file.readlines():\n",
    "    dic = json.loads(line)\n",
    "    \n",
    "dic    "
   ]
  },
  {
   "cell_type": "code",
   "execution_count": 9,
   "metadata": {},
   "outputs": [
    {
     "ename": "JSONDecodeError",
     "evalue": "Extra data: line 2 column 1 (char 477)",
     "output_type": "error",
     "traceback": [
      "\u001b[1;31m---------------------------------------------------------------------------\u001b[0m",
      "\u001b[1;31mJSONDecodeError\u001b[0m                           Traceback (most recent call last)",
      "\u001b[1;32m<ipython-input-9-3347f7c5baeb>\u001b[0m in \u001b[0;36m<module>\u001b[1;34m\u001b[0m\n\u001b[0;32m      3\u001b[0m \u001b[1;33m\u001b[0m\u001b[0m\n\u001b[0;32m      4\u001b[0m \u001b[1;32mwith\u001b[0m \u001b[0mopen\u001b[0m\u001b[1;33m(\u001b[0m\u001b[1;34mr'D:\\CAIL Dsta\\final_all_data\\exercise_contest\\data_train.json'\u001b[0m\u001b[1;33m,\u001b[0m\u001b[0mencoding\u001b[0m\u001b[1;33m=\u001b[0m\u001b[1;34m'utf-8'\u001b[0m\u001b[1;33m)\u001b[0m \u001b[1;32mas\u001b[0m \u001b[0mf\u001b[0m\u001b[1;33m:\u001b[0m\u001b[1;33m\u001b[0m\u001b[1;33m\u001b[0m\u001b[0m\n\u001b[1;32m----> 5\u001b[1;33m     \u001b[0mdata\u001b[0m\u001b[1;33m=\u001b[0m\u001b[0mjson\u001b[0m\u001b[1;33m.\u001b[0m\u001b[0mload\u001b[0m\u001b[1;33m(\u001b[0m\u001b[0mf\u001b[0m\u001b[1;33m)\u001b[0m\u001b[1;33m\u001b[0m\u001b[1;33m\u001b[0m\u001b[0m\n\u001b[0m\u001b[0;32m      6\u001b[0m \u001b[1;33m\u001b[0m\u001b[0m\n",
      "\u001b[1;32m~\\Anaconda3\\lib\\json\\__init__.py\u001b[0m in \u001b[0;36mload\u001b[1;34m(fp, cls, object_hook, parse_float, parse_int, parse_constant, object_pairs_hook, **kw)\u001b[0m\n\u001b[0;32m    294\u001b[0m         \u001b[0mcls\u001b[0m\u001b[1;33m=\u001b[0m\u001b[0mcls\u001b[0m\u001b[1;33m,\u001b[0m \u001b[0mobject_hook\u001b[0m\u001b[1;33m=\u001b[0m\u001b[0mobject_hook\u001b[0m\u001b[1;33m,\u001b[0m\u001b[1;33m\u001b[0m\u001b[1;33m\u001b[0m\u001b[0m\n\u001b[0;32m    295\u001b[0m         \u001b[0mparse_float\u001b[0m\u001b[1;33m=\u001b[0m\u001b[0mparse_float\u001b[0m\u001b[1;33m,\u001b[0m \u001b[0mparse_int\u001b[0m\u001b[1;33m=\u001b[0m\u001b[0mparse_int\u001b[0m\u001b[1;33m,\u001b[0m\u001b[1;33m\u001b[0m\u001b[1;33m\u001b[0m\u001b[0m\n\u001b[1;32m--> 296\u001b[1;33m         parse_constant=parse_constant, object_pairs_hook=object_pairs_hook, **kw)\n\u001b[0m\u001b[0;32m    297\u001b[0m \u001b[1;33m\u001b[0m\u001b[0m\n\u001b[0;32m    298\u001b[0m \u001b[1;33m\u001b[0m\u001b[0m\n",
      "\u001b[1;32m~\\Anaconda3\\lib\\json\\__init__.py\u001b[0m in \u001b[0;36mloads\u001b[1;34m(s, encoding, cls, object_hook, parse_float, parse_int, parse_constant, object_pairs_hook, **kw)\u001b[0m\n\u001b[0;32m    346\u001b[0m             \u001b[0mparse_int\u001b[0m \u001b[1;32mis\u001b[0m \u001b[1;32mNone\u001b[0m \u001b[1;32mand\u001b[0m \u001b[0mparse_float\u001b[0m \u001b[1;32mis\u001b[0m \u001b[1;32mNone\u001b[0m \u001b[1;32mand\u001b[0m\u001b[1;33m\u001b[0m\u001b[1;33m\u001b[0m\u001b[0m\n\u001b[0;32m    347\u001b[0m             parse_constant is None and object_pairs_hook is None and not kw):\n\u001b[1;32m--> 348\u001b[1;33m         \u001b[1;32mreturn\u001b[0m \u001b[0m_default_decoder\u001b[0m\u001b[1;33m.\u001b[0m\u001b[0mdecode\u001b[0m\u001b[1;33m(\u001b[0m\u001b[0ms\u001b[0m\u001b[1;33m)\u001b[0m\u001b[1;33m\u001b[0m\u001b[1;33m\u001b[0m\u001b[0m\n\u001b[0m\u001b[0;32m    349\u001b[0m     \u001b[1;32mif\u001b[0m \u001b[0mcls\u001b[0m \u001b[1;32mis\u001b[0m \u001b[1;32mNone\u001b[0m\u001b[1;33m:\u001b[0m\u001b[1;33m\u001b[0m\u001b[1;33m\u001b[0m\u001b[0m\n\u001b[0;32m    350\u001b[0m         \u001b[0mcls\u001b[0m \u001b[1;33m=\u001b[0m \u001b[0mJSONDecoder\u001b[0m\u001b[1;33m\u001b[0m\u001b[1;33m\u001b[0m\u001b[0m\n",
      "\u001b[1;32m~\\Anaconda3\\lib\\json\\decoder.py\u001b[0m in \u001b[0;36mdecode\u001b[1;34m(self, s, _w)\u001b[0m\n\u001b[0;32m    338\u001b[0m         \u001b[0mend\u001b[0m \u001b[1;33m=\u001b[0m \u001b[0m_w\u001b[0m\u001b[1;33m(\u001b[0m\u001b[0ms\u001b[0m\u001b[1;33m,\u001b[0m \u001b[0mend\u001b[0m\u001b[1;33m)\u001b[0m\u001b[1;33m.\u001b[0m\u001b[0mend\u001b[0m\u001b[1;33m(\u001b[0m\u001b[1;33m)\u001b[0m\u001b[1;33m\u001b[0m\u001b[1;33m\u001b[0m\u001b[0m\n\u001b[0;32m    339\u001b[0m         \u001b[1;32mif\u001b[0m \u001b[0mend\u001b[0m \u001b[1;33m!=\u001b[0m \u001b[0mlen\u001b[0m\u001b[1;33m(\u001b[0m\u001b[0ms\u001b[0m\u001b[1;33m)\u001b[0m\u001b[1;33m:\u001b[0m\u001b[1;33m\u001b[0m\u001b[1;33m\u001b[0m\u001b[0m\n\u001b[1;32m--> 340\u001b[1;33m             \u001b[1;32mraise\u001b[0m \u001b[0mJSONDecodeError\u001b[0m\u001b[1;33m(\u001b[0m\u001b[1;34m\"Extra data\"\u001b[0m\u001b[1;33m,\u001b[0m \u001b[0ms\u001b[0m\u001b[1;33m,\u001b[0m \u001b[0mend\u001b[0m\u001b[1;33m)\u001b[0m\u001b[1;33m\u001b[0m\u001b[1;33m\u001b[0m\u001b[0m\n\u001b[0m\u001b[0;32m    341\u001b[0m         \u001b[1;32mreturn\u001b[0m \u001b[0mobj\u001b[0m\u001b[1;33m\u001b[0m\u001b[1;33m\u001b[0m\u001b[0m\n\u001b[0;32m    342\u001b[0m \u001b[1;33m\u001b[0m\u001b[0m\n",
      "\u001b[1;31mJSONDecodeError\u001b[0m: Extra data: line 2 column 1 (char 477)"
     ]
    }
   ],
   "source": [
    "from bson import json_util\n",
    "import json\n",
    "\n",
    "with open(r'D:\\CAIL Dsta\\final_all_data\\exercise_contest\\data_train.json',encoding='utf-8') as f:\n",
    "    data=json.load(f)\n",
    "    "
   ]
  },
  {
   "cell_type": "code",
   "execution_count": null,
   "metadata": {},
   "outputs": [],
   "source": [
    "c=total.find({\"案由\":\"傷害\"})\n",
    "for i in c:\n",
    "    print(i)"
   ]
  },
  {
   "cell_type": "code",
   "execution_count": null,
   "metadata": {},
   "outputs": [],
   "source": [
    "db=client['law']\n",
    "total=db['total']\n",
    "org_total=total.distinct(\"判決法條\")\n",
    "for i in org_total:\n",
    "    aggregate(i)"
   ]
  },
  {
   "cell_type": "code",
   "execution_count": null,
   "metadata": {},
   "outputs": [],
   "source": [
    "from openpyxl import Workbook\n",
    "\n",
    "def aggregate(i):\n",
    "    pipeline = [{u\"$match\": {\"判決法條\" :i}},{u\"$count\": u\"count\"}]\n",
    "    cursor = total.aggregate(pipeline, allowDiskUse = False)\n",
    "    wb=Workbook()\n",
    "    ws = wb.active\n",
    "    ws['A1']=\"法條\"\n",
    "    ws['B1']='數量'\n",
    "    try:\n",
    "        for doc in cursor:\n",
    "            ws.append([i,doc])\n",
    "    finally:\n",
    "        wb.save('法條統計.xlsx')\n",
    "        client.close()"
   ]
  },
  {
   "cell_type": "code",
   "execution_count": null,
   "metadata": {},
   "outputs": [],
   "source": [
    "a={'fff':'sdf'}\n",
    "a.keys()"
   ]
  },
  {
   "cell_type": "code",
   "execution_count": null,
   "metadata": {},
   "outputs": [],
   "source": [
    "from pymongo import MongoClient\n",
    "from openpyxl import Workbook\n",
    "\n",
    "client = MongoClient('jacky0603.synology.me',28017)\n",
    "db=client['law']\n",
    "total=db['total']\n",
    "org_total=total.distinct(\"判決法條\")\n",
    "\n",
    "wb=Workbook()\n",
    "ws = wb.active\n",
    "ws['A1']=\"法條\"\n",
    "ws['B1']='數量'\n",
    "\n",
    "def aggregate(i,ws):\n",
    "    pipeline = [{u\"$match\": {\"判決法條\" :i}},{\"$count\":i}]\n",
    "    cursor = total.aggregate(pipeline, allowDiskUse = False)\n",
    "    try:\n",
    "        for doc in cursor:\n",
    "            ws.append([i,doc[i]])\n",
    "            print(doc)\n",
    "    finally:\n",
    "        client.close()\n",
    "\n",
    "for i in org_total:\n",
    "    aggregate(i,ws)\n",
    "wb.save('法條統計.xlsx')"
   ]
  },
  {
   "cell_type": "code",
   "execution_count": null,
   "metadata": {},
   "outputs": [],
   "source": [
    "import xlwt\n",
    "\n",
    "def set_style(name,height,bold=False):\n",
    "    style = xlwt.XFStyle()\n",
    "    font = xlwt.Font()\n",
    "    font.name = name\n",
    "    font.bold = bold\n",
    "    font.color_index = 4\n",
    "    font.height = height\n",
    "    style.font = font\n",
    "    return style\n",
    "\n",
    "def write_excel():\n",
    "    f = xlwt.Workbook()\n",
    "    sheet1 = f.add_sheet('法條',cell_overwrite_ok=True)\n",
    "    row0 = [\"法條\",\"數量\"]\n",
    "    colum0 = ['a','b']\n",
    "    #写第一行\n",
    "    for i in range(0,len(row0)):\n",
    "        sheet1.write(0,i,row0[i],set_style('Times New Roman',220,True))\n",
    "    #写第一列\n",
    "    for i in range(0,len(colum0)):\n",
    "        sheet1.write(i+1,0,colum0[i],set_style('Times New Roman',220,True))\n",
    "        f.save('test.xls')\n",
    "    \n",
    "write_excel()"
   ]
  }
 ],
 "metadata": {
  "kernelspec": {
   "display_name": "Python 3",
   "language": "python",
   "name": "python3"
  },
  "language_info": {
   "codemirror_mode": {
    "name": "ipython",
    "version": 3
   },
   "file_extension": ".py",
   "mimetype": "text/x-python",
   "name": "python",
   "nbconvert_exporter": "python",
   "pygments_lexer": "ipython3",
   "version": "3.7.1"
  }
 },
 "nbformat": 4,
 "nbformat_minor": 2
}
